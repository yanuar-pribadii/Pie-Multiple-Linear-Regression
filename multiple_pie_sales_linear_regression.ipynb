{
  "nbformat": 4,
  "nbformat_minor": 0,
  "metadata": {
    "colab": {
      "name": "multiple pie sales linear regression.ipynb",
      "provenance": [],
      "toc_visible": true,
      "mount_file_id": "1jSlvJXtxVao-z3zbqfPA3Sh0sLAeKuzr",
      "authorship_tag": "ABX9TyMnke1z8MOLwXhoQdkR951J",
      "include_colab_link": true
    },
    "kernelspec": {
      "name": "python3",
      "display_name": "Python 3"
    }
  },
  "cells": [
    {
      "cell_type": "markdown",
      "metadata": {
        "id": "view-in-github",
        "colab_type": "text"
      },
      "source": [
        "<a href=\"https://colab.research.google.com/github/yanuar-pribadii/Pie-Multiple-Linear-Regression/blob/main/multiple_pie_sales_linear_regression.ipynb\" target=\"_parent\"><img src=\"https://colab.research.google.com/assets/colab-badge.svg\" alt=\"Open In Colab\"/></a>"
      ]
    },
    {
      "cell_type": "markdown",
      "metadata": {
        "id": "S_OLt82cEDwV"
      },
      "source": [
        "#Data Science DTI 2020 Multiple Linear Regression Muhammad Yanuar Pribadi_DS0216\n",
        "\n",
        "Multiple linear regression adalah perhitungan statistik untuk mencari hubungan antara 1 **Dependent Variable (Y)** dengan **2 Independent Variable (Xi)atau lebih**. Pada percobaan kali ini dataset yang digunakan adalah penjualan pie oleh distributor untuk mengetahui faktor yang mempengaruhi *Demand* selama 15 Minggu. yang dimana :\n",
        "\n",
        "1. **Dependent Variable-nya** adalah **Pie Sales**\n",
        "2. **Independent Variable-nya** adalah **Price dalam Dollar ** **dan Advertising dalam Dollar Ratusan **\n",
        "\n"
      ]
    },
    {
      "cell_type": "code",
      "metadata": {
        "id": "ziZ2V515EQ6D",
        "outputId": "0b302e27-e113-4ea5-d441-63c5d30d0693",
        "colab": {
          "base_uri": "https://localhost:8080/",
          "height": 74
        }
      },
      "source": [
        "import pandas as pd\n",
        "import statsmodels.api as sm\n",
        "import seaborn as sns\n",
        "import matplotlib.pyplot as plt\n",
        "import warnings\n",
        "from sklearn import linear_model\n",
        "\n",
        "warnings.filterwarnings('ignore')\n",
        "plt.rcParams['figure.figsize'] = (7, 7)\n",
        "plt.style.use('ggplot')"
      ],
      "execution_count": null,
      "outputs": [
        {
          "output_type": "stream",
          "text": [
            "/usr/local/lib/python3.6/dist-packages/statsmodels/tools/_testing.py:19: FutureWarning: pandas.util.testing is deprecated. Use the functions in the public API at pandas.testing instead.\n",
            "  import pandas.util.testing as tm\n"
          ],
          "name": "stderr"
        }
      ]
    },
    {
      "cell_type": "markdown",
      "metadata": {
        "id": "fmhm9l-QRysx"
      },
      "source": [
        ""
      ]
    },
    {
      "cell_type": "code",
      "metadata": {
        "id": "w9uFdYjpG_PY",
        "outputId": "6c1b73b3-9a88-4402-f015-e3bc792a21b1",
        "colab": {
          "base_uri": "https://localhost:8080/",
          "height": 498
        }
      },
      "source": [
        "# import dataset pie\n",
        "df_pie = pd.read_csv('/content/pie-sales.csv', sep =\";\")\n",
        "df_pie"
      ],
      "execution_count": null,
      "outputs": [
        {
          "output_type": "execute_result",
          "data": {
            "text/html": [
              "<div>\n",
              "<style scoped>\n",
              "    .dataframe tbody tr th:only-of-type {\n",
              "        vertical-align: middle;\n",
              "    }\n",
              "\n",
              "    .dataframe tbody tr th {\n",
              "        vertical-align: top;\n",
              "    }\n",
              "\n",
              "    .dataframe thead th {\n",
              "        text-align: right;\n",
              "    }\n",
              "</style>\n",
              "<table border=\"1\" class=\"dataframe\">\n",
              "  <thead>\n",
              "    <tr style=\"text-align: right;\">\n",
              "      <th></th>\n",
              "      <th>week</th>\n",
              "      <th>pie_sales</th>\n",
              "      <th>price</th>\n",
              "      <th>advertising</th>\n",
              "    </tr>\n",
              "  </thead>\n",
              "  <tbody>\n",
              "    <tr>\n",
              "      <th>0</th>\n",
              "      <td>1</td>\n",
              "      <td>350</td>\n",
              "      <td>5.5</td>\n",
              "      <td>3.3</td>\n",
              "    </tr>\n",
              "    <tr>\n",
              "      <th>1</th>\n",
              "      <td>2</td>\n",
              "      <td>460</td>\n",
              "      <td>7.5</td>\n",
              "      <td>3.3</td>\n",
              "    </tr>\n",
              "    <tr>\n",
              "      <th>2</th>\n",
              "      <td>3</td>\n",
              "      <td>350</td>\n",
              "      <td>8.0</td>\n",
              "      <td>3.0</td>\n",
              "    </tr>\n",
              "    <tr>\n",
              "      <th>3</th>\n",
              "      <td>4</td>\n",
              "      <td>430</td>\n",
              "      <td>8.0</td>\n",
              "      <td>4.5</td>\n",
              "    </tr>\n",
              "    <tr>\n",
              "      <th>4</th>\n",
              "      <td>5</td>\n",
              "      <td>350</td>\n",
              "      <td>6.8</td>\n",
              "      <td>3.0</td>\n",
              "    </tr>\n",
              "    <tr>\n",
              "      <th>5</th>\n",
              "      <td>6</td>\n",
              "      <td>380</td>\n",
              "      <td>7.5</td>\n",
              "      <td>4.0</td>\n",
              "    </tr>\n",
              "    <tr>\n",
              "      <th>6</th>\n",
              "      <td>7</td>\n",
              "      <td>430</td>\n",
              "      <td>4.5</td>\n",
              "      <td>3.0</td>\n",
              "    </tr>\n",
              "    <tr>\n",
              "      <th>7</th>\n",
              "      <td>8</td>\n",
              "      <td>470</td>\n",
              "      <td>6.4</td>\n",
              "      <td>3.7</td>\n",
              "    </tr>\n",
              "    <tr>\n",
              "      <th>8</th>\n",
              "      <td>9</td>\n",
              "      <td>450</td>\n",
              "      <td>7.0</td>\n",
              "      <td>3.5</td>\n",
              "    </tr>\n",
              "    <tr>\n",
              "      <th>9</th>\n",
              "      <td>10</td>\n",
              "      <td>490</td>\n",
              "      <td>5.0</td>\n",
              "      <td>4.0</td>\n",
              "    </tr>\n",
              "    <tr>\n",
              "      <th>10</th>\n",
              "      <td>11</td>\n",
              "      <td>340</td>\n",
              "      <td>7.2</td>\n",
              "      <td>3.5</td>\n",
              "    </tr>\n",
              "    <tr>\n",
              "      <th>11</th>\n",
              "      <td>12</td>\n",
              "      <td>300</td>\n",
              "      <td>7.9</td>\n",
              "      <td>3.2</td>\n",
              "    </tr>\n",
              "    <tr>\n",
              "      <th>12</th>\n",
              "      <td>13</td>\n",
              "      <td>440</td>\n",
              "      <td>5.9</td>\n",
              "      <td>4.0</td>\n",
              "    </tr>\n",
              "    <tr>\n",
              "      <th>13</th>\n",
              "      <td>14</td>\n",
              "      <td>450</td>\n",
              "      <td>5.0</td>\n",
              "      <td>3.5</td>\n",
              "    </tr>\n",
              "    <tr>\n",
              "      <th>14</th>\n",
              "      <td>15</td>\n",
              "      <td>300</td>\n",
              "      <td>7.0</td>\n",
              "      <td>2.7</td>\n",
              "    </tr>\n",
              "  </tbody>\n",
              "</table>\n",
              "</div>"
            ],
            "text/plain": [
              "    week  pie_sales  price  advertising\n",
              "0      1        350    5.5          3.3\n",
              "1      2        460    7.5          3.3\n",
              "2      3        350    8.0          3.0\n",
              "3      4        430    8.0          4.5\n",
              "4      5        350    6.8          3.0\n",
              "5      6        380    7.5          4.0\n",
              "6      7        430    4.5          3.0\n",
              "7      8        470    6.4          3.7\n",
              "8      9        450    7.0          3.5\n",
              "9     10        490    5.0          4.0\n",
              "10    11        340    7.2          3.5\n",
              "11    12        300    7.9          3.2\n",
              "12    13        440    5.9          4.0\n",
              "13    14        450    5.0          3.5\n",
              "14    15        300    7.0          2.7"
            ]
          },
          "metadata": {
            "tags": []
          },
          "execution_count": 5
        }
      ]
    },
    {
      "cell_type": "markdown",
      "metadata": {
        "id": "ss4nDe9EhqB8"
      },
      "source": [
        "# EXPLORATORY DATA ANALYSIS\n",
        "Exploratory Data Analysis dilakukan dulu untuk mengetahui isi data yang digunakan, mulai dari distribusi, frekuensi, korelasi dan lainnya"
      ]
    },
    {
      "cell_type": "code",
      "metadata": {
        "id": "8QFqAy-WhmmS",
        "outputId": "a5e7d69d-f57a-4cf0-d608-2f05d250136d",
        "colab": {
          "base_uri": "https://localhost:8080/",
          "height": 568
        }
      },
      "source": [
        "sns.pairplot(df_pie.drop('week', axis=1))"
      ],
      "execution_count": null,
      "outputs": [
        {
          "output_type": "execute_result",
          "data": {
            "text/plain": [
              "<seaborn.axisgrid.PairGrid at 0x7f5d4d1fa3c8>"
            ]
          },
          "metadata": {
            "tags": []
          },
          "execution_count": 74
        },
        {
          "output_type": "display_data",
          "data": {
            "image/png": "[encoded data removed]",
            "text/plain": [
              "<Figure size 540x540 with 12 Axes>"
            ]
          },
          "metadata": {
            "tags": []
          }
        }
      ]
    },
    {
      "cell_type": "markdown",
      "metadata": {
        "id": "CWj9nPiglqun"
      },
      "source": [
        "Jika dilihat dari grafik diatas kita dapat melihat pola antara price dan advertising terhadap pie_sales, yang berarti variabel tersebut saling berhubungan"
      ]
    },
    {
      "cell_type": "code",
      "metadata": {
        "id": "7KfNsodDIrN1",
        "outputId": "5ecb22a4-a8af-4dff-9ff1-23e88dc8d3aa",
        "colab": {
          "base_uri": "https://localhost:8080/",
          "height": 388
        }
      },
      "source": [
        "# visualisasikan data menggunakan scatterplot\n",
        "g = sns.PairGrid(df_pie, y_vars=[\"pie_sales\"], x_vars=[\"price\", \"advertising\"], height=5)\n",
        "g.map(sns.regplot)"
      ],
      "execution_count": null,
      "outputs": [
        {
          "output_type": "execute_result",
          "data": {
            "text/plain": [
              "<seaborn.axisgrid.PairGrid at 0x7f5d4af6a5f8>"
            ]
          },
          "metadata": {
            "tags": []
          },
          "execution_count": 75
        },
        {
          "output_type": "display_data",
          "data": {
            "image/png": "[encoded data removed]",
            "text/plain": [
              "<Figure size 720x360 with 2 Axes>"
            ]
          },
          "metadata": {
            "tags": []
          }
        }
      ]
    },
    {
      "cell_type": "markdown",
      "metadata": {
        "id": "9xvi1B48nMEl"
      },
      "source": [
        "dari scatterplot diatas kita bisa menyimpulkan bahwa hubungan antar variabel tersebut adalah\n",
        "\n",
        "\n",
        "*   Jika nilai **price** semakin tinggi maka nilai **pie_sales** akan menurun\n",
        "*   Namun jika nilai **advertising** meninggi nilai **pie_sales** akan ikut meninggi pula\n",
        "\n"
      ]
    },
    {
      "cell_type": "markdown",
      "metadata": {
        "id": "wxTPMk8zjFIh"
      },
      "source": [
        "# PERIKSA KOLERASI INDEPENDENT VARIABLE DENGAN DEPENDENT VARIABLE DENGAN HEATMAP"
      ]
    },
    {
      "cell_type": "markdown",
      "metadata": {
        "id": "McETGpNjnrn9"
      },
      "source": [
        "# Regression using Sklearn"
      ]
    },
    {
      "cell_type": "code",
      "metadata": {
        "id": "wtFlWeQLoWBM"
      },
      "source": [
        "X = df_pie[['price', 'advertising']]\n",
        "Y = df_pie['pie_sales']"
      ],
      "execution_count": null,
      "outputs": []
    },
    {
      "cell_type": "code",
      "metadata": {
        "id": "DOkER0bijEwl",
        "outputId": "70ff37a7-f8bb-40d9-e105-bf884a114f25",
        "colab": {
          "base_uri": "https://localhost:8080/",
          "height": 488
        }
      },
      "source": [
        "plt.figure(figsize=(12, 8))\n",
        "\n",
        "df_pie = df_pie.corr()\n",
        "sns.heatmap(df_pie, \n",
        "            xticklabels = df_pie.columns.values,\n",
        "            yticklabels = df_pie.columns.values,\n",
        "            annot = True);"
      ],
      "execution_count": null,
      "outputs": [
        {
          "output_type": "display_data",
          "data": {
            "image/png": "[encoded data removed]",
            "text/plain": [
              "<Figure size 864x576 with 2 Axes>"
            ]
          },
          "metadata": {
            "tags": []
          }
        }
      ]
    },
    {
      "cell_type": "markdown",
      "metadata": {
        "id": "Jxh6EAQCPoNg"
      },
      "source": [
        "Dilihat dari heatmap diatas bahwa pie_sales memiliki korelas negatif dengan price dan pie_sales memiliki korelasi postif dengan advertising yang berarti ked"
      ]
    },
    {
      "cell_type": "code",
      "metadata": {
        "id": "zPCnoNgzpqPn",
        "outputId": "643775fa-1052-40b5-8356-0bc7e6daed70",
        "colab": {
          "base_uri": "https://localhost:8080/",
          "height": 198
        }
      },
      "source": [
        "X.head()"
      ],
      "execution_count": null,
      "outputs": [
        {
          "output_type": "execute_result",
          "data": {
            "text/html": [
              "<div>\n",
              "<style scoped>\n",
              "    .dataframe tbody tr th:only-of-type {\n",
              "        vertical-align: middle;\n",
              "    }\n",
              "\n",
              "    .dataframe tbody tr th {\n",
              "        vertical-align: top;\n",
              "    }\n",
              "\n",
              "    .dataframe thead th {\n",
              "        text-align: right;\n",
              "    }\n",
              "</style>\n",
              "<table border=\"1\" class=\"dataframe\">\n",
              "  <thead>\n",
              "    <tr style=\"text-align: right;\">\n",
              "      <th></th>\n",
              "      <th>price</th>\n",
              "      <th>advertising</th>\n",
              "    </tr>\n",
              "  </thead>\n",
              "  <tbody>\n",
              "    <tr>\n",
              "      <th>0</th>\n",
              "      <td>5.5</td>\n",
              "      <td>3.3</td>\n",
              "    </tr>\n",
              "    <tr>\n",
              "      <th>1</th>\n",
              "      <td>7.5</td>\n",
              "      <td>3.3</td>\n",
              "    </tr>\n",
              "    <tr>\n",
              "      <th>2</th>\n",
              "      <td>8.0</td>\n",
              "      <td>3.0</td>\n",
              "    </tr>\n",
              "    <tr>\n",
              "      <th>3</th>\n",
              "      <td>8.0</td>\n",
              "      <td>4.5</td>\n",
              "    </tr>\n",
              "    <tr>\n",
              "      <th>4</th>\n",
              "      <td>6.8</td>\n",
              "      <td>3.0</td>\n",
              "    </tr>\n",
              "  </tbody>\n",
              "</table>\n",
              "</div>"
            ],
            "text/plain": [
              "   price  advertising\n",
              "0    5.5          3.3\n",
              "1    7.5          3.3\n",
              "2    8.0          3.0\n",
              "3    8.0          4.5\n",
              "4    6.8          3.0"
            ]
          },
          "metadata": {
            "tags": []
          },
          "execution_count": 9
        }
      ]
    },
    {
      "cell_type": "code",
      "metadata": {
        "id": "qDSH69iip6aS",
        "outputId": "3b55ca8c-dc14-472b-bb93-a80c4249034b",
        "colab": {
          "base_uri": "https://localhost:8080/",
          "height": 126
        }
      },
      "source": [
        "Y.head()"
      ],
      "execution_count": null,
      "outputs": [
        {
          "output_type": "execute_result",
          "data": {
            "text/plain": [
              "0    350\n",
              "1    460\n",
              "2    350\n",
              "3    430\n",
              "4    350\n",
              "Name: pie_sales, dtype: int64"
            ]
          },
          "metadata": {
            "tags": []
          },
          "execution_count": 10
        }
      ]
    },
    {
      "cell_type": "code",
      "metadata": {
        "id": "vMcfNJXWpKiT",
        "outputId": "dde3b149-743a-4753-b6ce-cf5c4373d6bd",
        "colab": {
          "base_uri": "https://localhost:8080/",
          "height": 35
        }
      },
      "source": [
        "# with sklearn\n",
        "regr = linear_model.LinearRegression()\n",
        "regr.fit(X, Y)"
      ],
      "execution_count": null,
      "outputs": [
        {
          "output_type": "execute_result",
          "data": {
            "text/plain": [
              "LinearRegression(copy_X=True, fit_intercept=True, n_jobs=None, normalize=False)"
            ]
          },
          "metadata": {
            "tags": []
          },
          "execution_count": 11
        }
      ]
    },
    {
      "cell_type": "code",
      "metadata": {
        "id": "mI7B2cccpSOD",
        "outputId": "1bb9e9ba-cd59-4290-a125-1948fc6004c2",
        "colab": {
          "base_uri": "https://localhost:8080/",
          "height": 90
        }
      },
      "source": [
        "print('Intercept: \\n', regr.intercept_)\n",
        "print('Coefficients: \\n', regr.coef_)"
      ],
      "execution_count": null,
      "outputs": [
        {
          "output_type": "stream",
          "text": [
            "Intercept: \n",
            " 306.5261932837436\n",
            "Coefficients: \n",
            " [-24.97508952  74.13095749]\n"
          ],
          "name": "stdout"
        }
      ]
    },
    {
      "cell_type": "markdown",
      "metadata": {
        "id": "_req1g9otjNX"
      },
      "source": [
        "Dari regresi linear menggunakan Sklearn diatas didapat rumus regresi yakni\n",
        "\n",
        "y = b0 + b1X1 + b2X2\n",
        "\n",
        "y = 306.526 - 24.975 (price) + 74.130(advertising)"
      ]
    },
    {
      "cell_type": "markdown",
      "metadata": {
        "id": "gA4xzbTjurbu"
      },
      "source": [
        "#Prediksi penjualan jika menginginkan:\n",
        "\n",
        "\n",
        "\n",
        "1.   price 5.50 Dollar\n",
        "2.   advertising 350 Dollar. **ingat! karena advertising dalam satuan ratusan Dollar maka harus dirubah dulu sebelum dimasukkan ke rumus rgresi yaitu menjadi 3.50 Dollar**\n",
        "\n"
      ]
    },
    {
      "cell_type": "code",
      "metadata": {
        "id": "oSRtqQ0yMmD3",
        "outputId": "358d81e9-386a-4abd-d2e3-146f30a6dbfb",
        "colab": {
          "base_uri": "https://localhost:8080/",
          "height": 54
        }
      },
      "source": [
        "predictions = regr.predict([[5.50, 3.5]])\n",
        "print ('Predicted  pie sale: \\n', predictions)"
      ],
      "execution_count": null,
      "outputs": [
        {
          "output_type": "stream",
          "text": [
            "Predicted  pie sale: \n",
            " [428.62155215]\n"
          ],
          "name": "stdout"
        }
      ]
    },
    {
      "cell_type": "markdown",
      "metadata": {
        "id": "eo091kDnNvId"
      },
      "source": [
        "#Regression Using Statsmodel"
      ]
    },
    {
      "cell_type": "code",
      "metadata": {
        "id": "Wg42bFzGOoin"
      },
      "source": [
        "X = sm.add_constant(X) # adding a constant"
      ],
      "execution_count": null,
      "outputs": []
    },
    {
      "cell_type": "code",
      "metadata": {
        "id": "KSOZ62rANyKj",
        "outputId": "b7027b2d-c366-4846-dd39-5db8ac46e641",
        "colab": {
          "base_uri": "https://localhost:8080/",
          "height": 490
        }
      },
      "source": [
        "model = sm.OLS(Y, X).fit()\n",
        "predictions = model.predict(X) \n",
        "\n",
        "print_model = model.summary()\n",
        "print(print_model)"
      ],
      "execution_count": null,
      "outputs": [
        {
          "output_type": "stream",
          "text": [
            "                            OLS Regression Results                            \n",
            "==============================================================================\n",
            "Dep. Variable:              pie_sales   R-squared:                       0.521\n",
            "Model:                            OLS   Adj. R-squared:                  0.442\n",
            "Method:                 Least Squares   F-statistic:                     6.539\n",
            "Date:                Fri, 23 Oct 2020   Prob (F-statistic):             0.0120\n",
            "Time:                        06:52:11   Log-Likelihood:                -77.510\n",
            "No. Observations:                  15   AIC:                             161.0\n",
            "Df Residuals:                      12   BIC:                             163.1\n",
            "Df Model:                           2                                         \n",
            "Covariance Type:            nonrobust                                         \n",
            "===============================================================================\n",
            "                  coef    std err          t      P>|t|      [0.025      0.975]\n",
            "-------------------------------------------------------------------------------\n",
            "const         306.5262    114.254      2.683      0.020      57.588     555.464\n",
            "price         -24.9751     10.832     -2.306      0.040     -48.576      -1.374\n",
            "advertising    74.1310     25.967      2.855      0.014      17.553     130.709\n",
            "==============================================================================\n",
            "Omnibus:                        1.505   Durbin-Watson:                   1.683\n",
            "Prob(Omnibus):                  0.471   Jarque-Bera (JB):                0.937\n",
            "Skew:                           0.595   Prob(JB):                        0.626\n",
            "Kurtosis:                       2.709   Cond. No.                         72.2\n",
            "==============================================================================\n",
            "\n",
            "Warnings:\n",
            "[1] Standard Errors assume that the covariance matrix of the errors is correctly specified.\n"
          ],
          "name": "stdout"
        }
      ]
    },
    {
      "cell_type": "markdown",
      "metadata": {
        "id": "DljOjL_jTS9A"
      },
      "source": [
        "#Analisis dan Penjelasan\n",
        "\n",
        "Dengan jumlah data (n) = 15\n",
        "Jumlah Independent Variable (k) = 2\n",
        "\n",
        "**R-Squared**\n",
        "\n",
        "Karena hanya ada 2 independent variable maka yang digunakan adalah R-Squared. **Adjusted R-Squared** digunakan untuk variabel independent lebih dari 2.\n",
        "\n",
        "Dengan nilai R-Squared = 0.521 atau 52.1% berarti variable price dan advertising hanya mempengaruhi 52.1% terhadap variabel pie_sales dan sisa 47.9% dipengaruhi oleh variable yang tidak dimasukkan kedalam dataset\n",
        "\n",
        "\n",
        "\n",
        "---\n",
        "**Autokorelasi dengan Durbin Watson**\n",
        "\n",
        "Cara Membaca Tabel Durbin Watson\n",
        "\n",
        "n: Jumlah sampel (n)\n",
        "\n",
        "k: Jumlah variabel\n",
        "\n",
        "dL: Batas Bawah Durbin Watson\n",
        "\n",
        "dU: Batas Atas Durbin Watson\n",
        "\n",
        "**Deteksi Autokorelasi Positif**\n",
        "\n",
        "Jika d < dL maka terdapat autokorelasi positif,\n",
        "\n",
        "Jika d > dU maka tidak terdapat autokorelasi positif,\n",
        "\n",
        "Jika dL < d < dU maka pengujian tidak meyakinkan atau tidak dapat disimpulkan.\n",
        "\n",
        "**Deteksi Autokorelasi Negatif**\n",
        "\n",
        "Jika (4 – d) < dL maka terdapat autokorelasi negatif,\n",
        "Jika (4 – d) > dU maka tidak terdapat autokorelasi negatif,\n",
        "Jika dL < (4 – d) < dU maka pengujian tidak meyakinkan atau tidak dapat disimpulkan.\n",
        "\n",
        "Berdasarkan hasil regresi di atas:\n",
        "\n",
        "dengan sampel data (n)=15 dan independent variable (k)=2, nilai:\n",
        "\n",
        "Durbin-Watson (D)=1.683.\n",
        "\n",
        "dL=0.9455\n",
        "\n",
        "dU=1.5432.\n",
        "\n",
        "4-d=2.317\n",
        "\n",
        "dikarenakan **d < dL** dan **(4-d) > dU** maka\n",
        "\n",
        "**TIDAK TERDAPAT AUTOKORELASI PADA DATA**\n",
        "\n",
        "\n",
        "---\n",
        "**Uji Koefisien Regresi Secara Bersama-sama (Uji F)**\n",
        "\n",
        "Tahap-tahap untuk melakukan uji F adalah sebagai berikut:\n",
        "1.   Merumuskan Hipotesis\n",
        "\n",
        "Ho : Tidak ada pengaruh secara signifikan antara variabel price dan advertising\n",
        "\n",
        "Ha : Ada pengaruh secara signifikan antara variable price dan advertising\n",
        "2.   Menentukan tingkat signifikansi\n",
        "\n",
        "Tingkat signifikansi menggunakan a = 5% (signifikansi 5% atau 0,05 adalah ukuran standar yang sering digunakan dalam penelitian)\n",
        "4.      Menentukan F tabel\n",
        "\n",
        "Dengan menggunakan tingkat keyakinan 95%, a = 5%, df 1 (jumlah variabel–1)  = 2, dan df 2 (n-k-1) atau 15-2-1  = 12 (n adalah jumlah kasus dan k adalah jumlah variabel independen), hasil diperoleh untuk F tabel sebesar **3.89**.\n",
        "5.      Kriteria pengujian\n",
        "- Ho diterima bila F hitung < F tabel\n",
        "- Ho ditolak bila F hitung > F tabel\n",
        "6.  Membandingkan F hitung dengan F tabel.\n",
        "\n",
        "**Karena F-Hitung atau F-Statistic = 6.539 dan F-Tabel = 3.89. Maka F-Hitung > F tabel yang berarti Ho ditolak dan variabel price dan advertising memiliki pengaruh signifikan terhadap pie_sales**\n",
        "\n",
        "---\n",
        "\n",
        "**Uji Koefisien Regresi Secara Parsial (Uji t)**\n",
        "\n",
        "Pengujian koefisien regresi variabel price\n",
        "1.   Menentukan Hipotesis\n",
        "\n",
        "Ho : Secara parsial tidak ada pengaruh signifikan antara price dengan pie_sales\n",
        "Ha : Secara parsial ada pengaruh signifikan antara price dengan pie_sales\n",
        "2.   Menentukan tingkat signifikansi\n",
        "           \n",
        "   Tingkat signifikansi menggunakan a = 5%\n",
        "3.  Menentukan t hitung\n",
        "\n",
        "Berdasarkan regresi diperoleh t hitung sebesar **-2.306**\n",
        "\n",
        "4. Menentukan t tabel\n",
        "\n",
        "Tabel distribusi t dicari pada a = 5% : 2 = 2,5% (uji 2 sisi) dengan derajat kebebasan (df) n-k-1 atau  15-2-1  = 12 (n adalah jumlah kasus dan k adalah jumlah variabel independen). Dengan pengujian 2 sisi (signifikansi           = 0,025) hasil diperoleh untuk t tabel sebesar 2,17881\n",
        "5.   Kriteria Pengujian\n",
        "\n",
        "Ho diterima jika \n",
        "\n",
        "-t tabel < t hitung < t tabel\n",
        "\n",
        "Ho ditolak jika \n",
        "\n",
        "-t hitung < -t tabel atau t hitung > t tabel\n",
        "\n",
        "**Karena  -t hitung (-2.306) < -t tabel (2.17881) maka Ho ditolak yang berarti variabel price memiliki pengaruh signifikan terhadap pie_sales**\n",
        "\n",
        "---\n",
        "\n",
        "Pengujian koefisien regresi variabel advertising\n",
        "1.   Menentukan Hipotesis\n",
        "\n",
        "Ho : Secara parsial tidak ada pengaruh signifikan antara advertising dengan pie_sales\n",
        "Ha : Secara parsial ada pengaruh signifikan antara advertising dengan pie_sales\n",
        "2.   Menentukan tingkat signifikansi\n",
        "           \n",
        "   Tingkat signifikansi menggunakan a = 5%\n",
        "3.  Menentukan t hitung\n",
        "\n",
        "Berdasarkan regresi diperoleh t hitung sebesar **2.855**\n",
        "\n",
        "4. Menentukan t tabel\n",
        "\n",
        "Tabel distribusi t dicari pada a = 5% : 2 = 2,5% (uji 2 sisi) dengan derajat kebebasan (df) n-k-1 atau  15-2-1  = 12 (n adalah jumlah kasus dan k adalah jumlah variabel independen). Dengan pengujian 2 sisi (signifikansi           = 0,025) hasil diperoleh untuk t tabel sebesar 2,17881\n",
        "5.   Kriteria Pengujian\n",
        "\n",
        "Ho diterima jika \n",
        "\n",
        "-t tabel < t hitung < t tabel\n",
        "\n",
        "Ho ditolak jika \n",
        "\n",
        "-t hitung < -t tabel atau t hitung > t tabel\n",
        "\n",
        "**Karena t hitung (2.855) > t tabel (2.17881) maka Ho ditolak yang berarti variabel advertising memiliki pengaruh signifikan terhadap pie_sales**\n",
        "\n",
        "---\n",
        "**Dengan didapatnya hasil perhitungan diatas dapat kita simpulkan bahwa meski tidak terdapat autokorelasi pada data dan namun variable independent memiliki pengaruh signifikan terhadap penjualan kue pie sebesar 52.1% dan pengaruh lainnya sebesar 47.9% tidak dimasukkan didalam data**\n",
        "\n",
        "---\n",
        "Referensi\n",
        "\n",
        "http://duwiconsultant.blogspot.com/2011/11/analisis-regresi-linier-berganda.html#:~:text=Adjusted%20R%20Square%20adalah%20nilai,R2%20sebagai%20koefisien%20determinasi\n",
        "\n",
        "https://junaidichaniago.wordpress.com/2010/04/22/download-tabel-f-lengkap/\n",
        "\n",
        "https://www.statistikian.com/2013/01/uji-f-dan-uji-t.html\n",
        "\n",
        "\n"
      ]
    }
  ]
}